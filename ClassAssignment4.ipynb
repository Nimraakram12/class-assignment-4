{
  "nbformat": 4,
  "nbformat_minor": 0,
  "metadata": {
    "colab": {
      "provenance": [],
      "authorship_tag": "ABX9TyOmyQp93xqWzmCP9ZuDjd7J",
      "include_colab_link": true
    },
    "kernelspec": {
      "name": "python3",
      "display_name": "Python 3"
    },
    "language_info": {
      "name": "python"
    }
  },
  "cells": [
    {
      "cell_type": "markdown",
      "metadata": {
        "id": "view-in-github",
        "colab_type": "text"
      },
      "source": [
        "<a href=\"https://colab.research.google.com/github/Nimraakram12/class-assignment-4/blob/main/ClassAssignment4.ipynb\" target=\"_parent\"><img src=\"https://colab.research.google.com/assets/colab-badge.svg\" alt=\"Open In Colab\"/></a>"
      ]
    },
    {
      "cell_type": "markdown",
      "source": [
        "**List Methods Practice**"
      ],
      "metadata": {
        "id": "q7LuSI7RcTFt"
      }
    },
    {
      "cell_type": "markdown",
      "source": [
        "1.** Create and Modify Lists**"
      ],
      "metadata": {
        "id": "rLYtTW9rcbjF"
      }
    },
    {
      "cell_type": "code",
      "source": [
        "# Create initial list\n",
        "fruits = [\"apple\", \"banana\", \"orange\"]\n",
        "\n",
        "# Add \"grape\" to the end\n",
        "fruits.append(\"grape\")\n",
        "\n",
        "# Insert \"mango\" at position\n",
        "fruits.insert(1, \"mango\")\n",
        "\n",
        "# Remove \"banana\"\n",
        "fruits.remove(\"banana\")\n",
        "\n",
        "# Print final list\n",
        "print(fruits)"
      ],
      "metadata": {
        "colab": {
          "base_uri": "https://localhost:8080/"
        },
        "id": "3NzekZRtcdZr",
        "outputId": "a912f519-99ac-4cfc-c470-6d47108c7022"
      },
      "execution_count": 1,
      "outputs": [
        {
          "output_type": "stream",
          "name": "stdout",
          "text": [
            "['apple', 'mango', 'orange', 'grape']\n"
          ]
        }
      ]
    },
    {
      "cell_type": "markdown",
      "source": [
        "2. List Operations"
      ],
      "metadata": {
        "id": "70hVVvdIcx8C"
      }
    },
    {
      "cell_type": "code",
      "source": [
        "# Create initial lists\n",
        "numbers = [10, 20, 30, 40, 50]\n",
        "more_numbers = [60, 70, 80]\n",
        "\n",
        "# Combine lists\n",
        "all_numbers = numbers + more_numbers\n",
        "\n",
        "# Create copy and reverse it\n",
        "numbers_copy = all_numbers.copy()\n",
        "numbers_copy.reverse()\n",
        "\n",
        "# Print results\n",
        "print(\"Original combined list:\", all_numbers)\n",
        "print(\"Reversed copy:\", numbers_copy)"
      ],
      "metadata": {
        "colab": {
          "base_uri": "https://localhost:8080/"
        },
        "id": "1SHPuxjlczCP",
        "outputId": "b0bcb7b4-a258-4b70-d8af-59a6f1bc7869"
      },
      "execution_count": 2,
      "outputs": [
        {
          "output_type": "stream",
          "name": "stdout",
          "text": [
            "Original combined list: [10, 20, 30, 40, 50, 60, 70, 80]\n",
            "Reversed copy: [80, 70, 60, 50, 40, 30, 20, 10]\n"
          ]
        }
      ]
    },
    {
      "cell_type": "markdown",
      "source": [
        "3. Sorting and Counting"
      ],
      "metadata": {
        "id": "obbTjO8nde0S"
      }
    },
    {
      "cell_type": "code",
      "source": [
        "# Create the list\n",
        "scores = [85, 92, 78, 65, 92, 85, 74]\n",
        "\n",
        "# Sort in ascending order\n",
        "scores.sort()\n",
        "print(\"Ascending order:\", scores)\n",
        "\n",
        "# Sort in descending order\n",
        "scores.sort(reverse=True)\n",
        "print(\"Descending order:\", scores)"
      ],
      "metadata": {
        "colab": {
          "base_uri": "https://localhost:8080/"
        },
        "id": "fav_r8YwdgNi",
        "outputId": "c78e4c06-1b39-4df9-c183-b10a0c2a918b"
      },
      "execution_count": 3,
      "outputs": [
        {
          "output_type": "stream",
          "name": "stdout",
          "text": [
            "Ascending order: [65, 74, 78, 85, 85, 92, 92]\n",
            "Descending order: [92, 92, 85, 85, 78, 74, 65]\n"
          ]
        }
      ]
    },
    {
      "cell_type": "markdown",
      "source": [
        "4. List Manipulation"
      ],
      "metadata": {
        "id": "HtzpHrgVd8dP"
      }
    },
    {
      "cell_type": "code",
      "source": [
        "# Create the original list\n",
        "letters = [\"a\", \"b\", \"c\", \"d\", \"e\"]\n",
        "\n",
        "# Slice first three letters\n",
        "first_three = letters[:3]\n",
        "\n",
        "# Slice last two letters\n",
        "last_two = letters[-2:]\n",
        "\n",
        "# Find index of \"c\"\n",
        "c_index = letters.index(\"c\")\n",
        "\n",
        "# Replace \"d\" with \"z\"\n",
        "letters[3] = \"z\"\n",
        "\n",
        "# Print results\n",
        "print(\"Original list:\", letters)\n",
        "print(\"First three letters:\", first_three)\n",
        "print(\"Last two letters:\", last_two)\n",
        "print(\"Index of 'c':\", c_index)\n",
        "print(\"Modified list:\", letters)"
      ],
      "metadata": {
        "colab": {
          "base_uri": "https://localhost:8080/"
        },
        "id": "nYytVVXbd_YQ",
        "outputId": "6ff1f52a-0da1-4708-c42e-291990d31c24"
      },
      "execution_count": 4,
      "outputs": [
        {
          "output_type": "stream",
          "name": "stdout",
          "text": [
            "Original list: ['a', 'b', 'c', 'z', 'e']\n",
            "First three letters: ['a', 'b', 'c']\n",
            "Last two letters: ['d', 'e']\n",
            "Index of 'c': 2\n",
            "Modified list: ['a', 'b', 'c', 'z', 'e']\n"
          ]
        }
      ]
    },
    {
      "cell_type": "markdown",
      "source": [
        "**Dictionary Methods Practice**"
      ],
      "metadata": {
        "id": "8YV4Our4d_22"
      }
    },
    {
      "cell_type": "markdown",
      "source": [
        "1. Create and Access Dictionaries\n"
      ],
      "metadata": {
        "id": "25yZ_71ceC8W"
      }
    },
    {
      "cell_type": "code",
      "source": [
        "# Create the student dictionary\n",
        "student = {\n",
        "    \"name\": \"John\",\n",
        "    \"age\": 20,\n",
        "    \"grade\": \"A\",\n",
        "    \"courses\": [\"Math\", \"Science\", \"History\"]\n",
        "}\n",
        "\n",
        "# Print the student's name\n",
        "print(student[\"name\"])\n",
        "\n",
        "# Print the list of courses\n",
        "print(\"Courses:\", student[\"courses\"])\n",
        "\n",
        "# Add email address\n",
        "student[\"email\"] = \"john@example.com\"\n",
        "\n",
        "# Print entire dictionary\n",
        "print(\"\\nUpdated student dictionary:\")\n",
        "print(student)"
      ],
      "metadata": {
        "colab": {
          "base_uri": "https://localhost:8080/"
        },
        "id": "J-oVxhjNe9ml",
        "outputId": "ad3af9e7-73f4-48fe-cf1e-2806b838a18f"
      },
      "execution_count": 7,
      "outputs": [
        {
          "output_type": "stream",
          "name": "stdout",
          "text": [
            "John\n",
            "Courses: ['Math', 'Science', 'History']\n",
            "\n",
            "Updated student dictionary:\n",
            "{'name': 'John', 'age': 20, 'grade': 'A', 'courses': ['Math', 'Science', 'History'], 'email': 'john@example.com'}\n"
          ]
        }
      ]
    },
    {
      "cell_type": "markdown",
      "source": [
        "2. Modify Dictionary Values"
      ],
      "metadata": {
        "id": "shkFScyKfVXs"
      }
    },
    {
      "cell_type": "code",
      "source": [
        "# Modify the student dictionary\n",
        "\n",
        "student = {\n",
        "    \"name\": \"John\",\n",
        "    \"age\": 20,\n",
        "    \"grade\": \"A\",\n",
        "    \"courses\": [\"Math\", \"Science\", \"History\"]\n",
        "}\n",
        "\n",
        "student[\"age\"] = 21                     # Change age to 21\n",
        "student[\"courses\"].append(\"Computer Science\")  # Add new course\n",
        "student[\"grade\"] = \"A+\"                 # Update grade\n",
        "\n",
        "# Print the modified dictionary\n",
        "print(\"Modified student dictionary:\")\n",
        "print(student)"
      ],
      "metadata": {
        "colab": {
          "base_uri": "https://localhost:8080/"
        },
        "id": "xBT56kD7fWQE",
        "outputId": "1cdc5a15-b26f-4e15-f3bd-03182dc5bb7b"
      },
      "execution_count": 8,
      "outputs": [
        {
          "output_type": "stream",
          "name": "stdout",
          "text": [
            "Modified student dictionary:\n",
            "{'name': 'John', 'age': 21, 'grade': 'A+', 'courses': ['Math', 'Science', 'History', 'Computer Science']}\n"
          ]
        }
      ]
    },
    {
      "cell_type": "markdown",
      "source": [
        "3. Dictionary Operations"
      ],
      "metadata": {
        "id": "gh5ROiR1fWvc"
      }
    },
    {
      "cell_type": "code",
      "source": [
        "# Create student_address dictionary\n",
        "student_address = {\n",
        "    \"street\": \"123 College Ave\",\n",
        "    \"city\": \"New York\",\n",
        "    \"zip\": \"10001\"\n",
        "}\n",
        "\n",
        "# Combine dictionaries\n",
        "student_info = {**student, **student_address}\n",
        "\n",
        "# Remove zip code\n",
        "del student_info[\"zip\"]\n",
        "\n",
        "# Check for phone number\n",
        "phone_exists = \"phone\" in student_info\n",
        "\n",
        "# Print results\n",
        "print(\"Final Student Information:\")\n",
        "print(student_info)\n",
        "print(\"\\nDoes 'phone' exist in the dictionary?\", phone_exists)"
      ],
      "metadata": {
        "colab": {
          "base_uri": "https://localhost:8080/"
        },
        "id": "GBIx7HknfZUr",
        "outputId": "e574ceaf-72d0-4ba4-d3b5-94bd3470e6eb"
      },
      "execution_count": 9,
      "outputs": [
        {
          "output_type": "stream",
          "name": "stdout",
          "text": [
            "Final Student Information:\n",
            "{'name': 'John', 'age': 21, 'grade': 'A+', 'courses': ['Math', 'Science', 'History', 'Computer Science'], 'street': '123 College Ave', 'city': 'New York'}\n",
            "\n",
            "Does 'phone' exist in the dictionary? False\n"
          ]
        }
      ]
    },
    {
      "cell_type": "markdown",
      "source": [
        "4. Dictionary Methods"
      ],
      "metadata": {
        "id": "ykAQPhLwfZsB"
      }
    },
    {
      "cell_type": "code",
      "source": [
        "# Create the dictionary\n",
        "word_count = {\n",
        "    \"hello\": 5,\n",
        "    \"world\": 10,\n",
        "    \"python\": 15\n",
        "}\n",
        "\n",
        "# Get and print keys\n",
        "keys = list(word_count.keys())\n",
        "print(\"Keys:\", keys)\n",
        "\n",
        "# Get and print values\n",
        "values = list(word_count.values())\n",
        "print(\"Values:\", values)\n",
        "\n",
        "# Get and print key-value pairs\n",
        "items = list(word_count.items())\n",
        "print(\"Key-Value Pairs:\", items)\n",
        "\n",
        "# Make a copy and clear original\n",
        "copy_word_count = word_count.copy()\n",
        "word_count.clear()\n",
        "\n",
        "# Print both dictionaries\n",
        "print(\"\\nOriginal dictionary after clearing:\", word_count)\n",
        "print(\"Copied dictionary:\", copy_word_count)"
      ],
      "metadata": {
        "colab": {
          "base_uri": "https://localhost:8080/"
        },
        "id": "EUtQRt29fdM7",
        "outputId": "41b2b88a-ba21-4b48-85d9-82e940c7daa5"
      },
      "execution_count": 10,
      "outputs": [
        {
          "output_type": "stream",
          "name": "stdout",
          "text": [
            "Keys: ['hello', 'world', 'python']\n",
            "Values: [5, 10, 15]\n",
            "Key-Value Pairs: [('hello', 5), ('world', 10), ('python', 15)]\n",
            "\n",
            "Original dictionary after clearing: {}\n",
            "Copied dictionary: {'hello': 5, 'world': 10, 'python': 15}\n"
          ]
        }
      ]
    },
    {
      "cell_type": "markdown",
      "source": [
        "**Shopping Discount Calculator**"
      ],
      "metadata": {
        "id": "O6GBEkJ8hFJ2"
      }
    },
    {
      "cell_type": "code",
      "source": [
        "# Step 1: Initial variables\n",
        "purchase_amount = 120.00  # Change this to test different values\n",
        "is_loyalty_member = True\n",
        "day_of_week = \"Saturday\"\n",
        "is_holiday_season = False\n",
        "\n",
        "# Step 2: Set starting value for discounts\n",
        "original_price = purchase_amount\n",
        "final_price = purchase_amount\n",
        "\n",
        "# Step 3: Apply discounts\n",
        "print(f\"Original Purchase Amount: ${original_price:.2f}\")\n",
        "\n",
        "# Purchase amount discount\n",
        "if purchase_amount > 100:\n",
        "    discount = final_price * 0.10\n",
        "    final_price -= discount\n",
        "    print(f\"Purchase Discount (10%): -${discount:.2f}\")\n",
        "elif purchase_amount > 50:\n",
        "    discount = final_price * 0.05\n",
        "    final_price -= discount\n",
        "    print(f\"Purchase Discount (5%): -${discount:.2f}\")\n",
        "\n",
        "# Loyalty member discount\n",
        "if is_loyalty_member:\n",
        "    discount = final_price * 0.05\n",
        "    final_price -= discount\n",
        "    print(f\"Loyalty Discount (5%): -${discount:.2f}\")\n",
        "\n",
        "# Weekend discount\n",
        "if day_of_week == \"Saturday\" or day_of_week == \"Sunday\":\n",
        "    discount = final_price * 0.02\n",
        "    final_price -= discount\n",
        "    print(f\"Weekend Discount (2%): -${discount:.2f}\")\n",
        "\n",
        "# Holiday season discount\n",
        "if is_holiday_season:\n",
        "    discount = final_price * 0.08\n",
        "    final_price -= discount\n",
        "    print(f\"Holiday Discount (8%): -${discount:.2f}\")\n",
        "\n",
        "# Step 4: Final price\n",
        "print(f\"Final Price: ${final_price:.2f}\")"
      ],
      "metadata": {
        "colab": {
          "base_uri": "https://localhost:8080/"
        },
        "id": "-eG_Bu-BjeTY",
        "outputId": "2294b4eb-49f8-4cfe-af22-2ff5e687ab67"
      },
      "execution_count": 14,
      "outputs": [
        {
          "output_type": "stream",
          "name": "stdout",
          "text": [
            "Original Purchase Amount: $120.00\n",
            "Purchase Discount (10%): -$12.00\n",
            "Loyalty Discount (5%): -$5.40\n",
            "Weekend Discount (2%): -$2.05\n",
            "Final Price: $100.55\n"
          ]
        }
      ]
    },
    {
      "cell_type": "markdown",
      "source": [
        "**For Loop Assignment - Number Patterns**"
      ],
      "metadata": {
        "id": "EIrZb5SLk87r"
      }
    },
    {
      "cell_type": "markdown",
      "source": [
        "1. Pattern 1: Counting Numbers"
      ],
      "metadata": {
        "id": "et_WP3sHlCBT"
      }
    },
    {
      "cell_type": "code",
      "source": [
        "print(\"Pattern 1: Counting Numbers\")\n",
        "for number in range(1, 11):\n",
        "    print(number, end=' ')"
      ],
      "metadata": {
        "colab": {
          "base_uri": "https://localhost:8080/"
        },
        "id": "Xk0qcvWqlFRU",
        "outputId": "bd2ef675-9df5-4cce-c513-b69c64c90d17"
      },
      "execution_count": 15,
      "outputs": [
        {
          "output_type": "stream",
          "name": "stdout",
          "text": [
            "Pattern 1: Counting Numbers\n",
            "1 2 3 4 5 6 7 8 9 10 "
          ]
        }
      ]
    },
    {
      "cell_type": "markdown",
      "source": [
        "Pattern 2: Multiplication Table"
      ],
      "metadata": {
        "id": "aqsj9ufSlQh8"
      }
    },
    {
      "cell_type": "code",
      "source": [
        "print(\"Multiplication Table for 5\")\n",
        "for i in range(1, 11):\n",
        "    print(f\"5 x {i} = {5 * i}\")"
      ],
      "metadata": {
        "colab": {
          "base_uri": "https://localhost:8080/"
        },
        "id": "9Me4VxK9lTSy",
        "outputId": "04948d79-de8f-435e-8bc8-da6cbab35573"
      },
      "execution_count": 17,
      "outputs": [
        {
          "output_type": "stream",
          "name": "stdout",
          "text": [
            "Multiplication Table for 5\n",
            "5 x 1 = 5\n",
            "5 x 2 = 10\n",
            "5 x 3 = 15\n",
            "5 x 4 = 20\n",
            "5 x 5 = 25\n",
            "5 x 6 = 30\n",
            "5 x 7 = 35\n",
            "5 x 8 = 40\n",
            "5 x 9 = 45\n",
            "5 x 10 = 50\n"
          ]
        }
      ]
    },
    {
      "cell_type": "markdown",
      "source": [
        "**While Loop Assignment - Interactive Game**\n"
      ],
      "metadata": {
        "id": "r0jTGQkrlZEx"
      }
    },
    {
      "cell_type": "code",
      "source": [
        "import random\n",
        "\n",
        "# Generate a random secret number between 1 and 50\n",
        "secret_number = random.randint(1, 50)\n",
        "guess_count = 0\n",
        "\n",
        "print(\"Welcome to the Number Guessing Game!\")\n",
        "print(\"I'm thinking of a number between 1 and 50. Can you guess it?\")\n",
        "\n",
        "while True:\n",
        "    try:\n",
        "        # Get player's guess\n",
        "        guess = int(input(\"\\nEnter your guess: \"))\n",
        "        guess_count += 1\n",
        "\n",
        "        # Check guess against secret number\n",
        "        if guess == secret_number:\n",
        "            print(f\"\\n🎉 Congratulations! You guessed the number in {guess_count} tries!\")\n",
        "            break\n",
        "        elif guess < secret_number:\n",
        "            print(\"🔻 Try a higher number!\")\n",
        "        else:\n",
        "            print(\"🔺 Try a lower number!\")\n",
        "\n",
        "    except ValueError:\n",
        "        print(\"⚠️ Please enter a valid number between 1 and 50!\")\n",
        "\n",
        "print(\"Thanks for playing!\")"
      ],
      "metadata": {
        "colab": {
          "base_uri": "https://localhost:8080/"
        },
        "id": "_bF846B-ltjK",
        "outputId": "5ed4f966-9b5f-482b-944a-883fa8cbd87d"
      },
      "execution_count": 18,
      "outputs": [
        {
          "output_type": "stream",
          "name": "stdout",
          "text": [
            "Welcome to the Number Guessing Game!\n",
            "I'm thinking of a number between 1 and 50. Can you guess it?\n",
            "\n",
            "Enter your guess: 67\n",
            "🔺 Try a lower number!\n",
            "\n",
            "Enter your guess: 45\n",
            "🔺 Try a lower number!\n",
            "\n",
            "Enter your guess: 32\n",
            "🔺 Try a lower number!\n",
            "\n",
            "Enter your guess: 12\n",
            "🔻 Try a higher number!\n",
            "\n",
            "Enter your guess: 24\n",
            "🔺 Try a lower number!\n",
            "\n",
            "Enter your guess: 20\n",
            "🔺 Try a lower number!\n",
            "\n",
            "Enter your guess: 15\n",
            "\n",
            "🎉 Congratulations! You guessed the number in 7 tries!\n",
            "Thanks for playing!\n"
          ]
        }
      ]
    },
    {
      "cell_type": "markdown",
      "source": [
        "**Student Grade Management System**"
      ],
      "metadata": {
        "id": "loHVx-LtmRNP"
      }
    },
    {
      "cell_type": "code",
      "source": [
        "# Initialize student list with 3 students\n",
        "students = [\n",
        "    {\n",
        "        'name': 'Ahsan',\n",
        "        'id': 101,\n",
        "        'grades': {'Math': 85, 'Science': 90, 'History': 78}\n",
        "    },\n",
        "    {\n",
        "        'name': 'Zain',\n",
        "        'id': 102,\n",
        "        'grades': {'Math': 76, 'Science': 88, 'History': 92}\n",
        "    },\n",
        "    {\n",
        "        'name': 'Ali',\n",
        "        'id': 103,\n",
        "        'grades': {'Math': 92, 'Science': 85, 'History': 88}\n",
        "    }\n",
        "]\n",
        "\n",
        "\n",
        "def display_students():\n",
        "    print(\"\\n--- All Students ---\")\n",
        "    for student in students:\n",
        "        print(f\"\\nStudent Name: {student['name']}\")\n",
        "        print(f\"Student ID: {student['id']}\")\n",
        "        print(\"Subjects and Grades:\")\n",
        "        for subject, grade in student['grades'].items():\n",
        "            print(f\"  {subject}: {grade}\")\n",
        "\n",
        "def calculate_averages():\n",
        "    print(\"\\n--- Average Grades ---\")\n",
        "    averages = []\n",
        "    for student in students:\n",
        "        avg = sum(student['grades'].values()) / len(student['grades'])\n",
        "        averages.append((student['name'], avg))\n",
        "        print(f\"{student['name']}: {avg:.2f}\")\n",
        "    return averages\n",
        "\n",
        "\n",
        "def find_highest_average(averages):\n",
        "    highest = max(averages, key=lambda x: x[1])\n",
        "    print(f\"\\nHighest Average: {highest[0]} with {highest[1]:.2f}\")\n",
        "\n",
        "def list_top_students(averages):\n",
        "    print(\"\\n--- Students with Average > 80 ---\")\n",
        "    for name, avg in averages:\n",
        "        if avg > 80:\n",
        "            print(f\"{name}: {avg:.2f}\")\n",
        "\n",
        "\n",
        "def calculate_subject_average(subject_name):\n",
        "    total = 0\n",
        "    count = 0\n",
        "    for student in students:\n",
        "        if subject_name in student['grades']:\n",
        "            total += student['grades'][subject_name]\n",
        "            count += 1\n",
        "    if count == 0:\n",
        "        print(f\"\\nNo grades found for {subject_name}\")\n",
        "    else:\n",
        "        print(f\"\\nAverage for {subject_name}: {total/count:.2f}\")\n",
        "\n",
        "def add_student():\n",
        "    print(\"\\n--- Add New Student ---\")\n",
        "    name = input(\"Enter student name: \")\n",
        "\n",
        "\n",
        "    while True:\n",
        "        try:\n",
        "            student_id = int(input(\"Enter student ID: \"))\n",
        "            if student_id > 0:\n",
        "                break\n",
        "            else:\n",
        "                print(\"ID must be a positive number!\")\n",
        "        except ValueError:\n",
        "            print(\"Please enter a valid number for ID!\")\n",
        "\n",
        "    grades = {}\n",
        "    for _ in range(3):\n",
        "        subject = input(\"Enter subject name: \")\n",
        "\n",
        "        # Validate grade input\n",
        "        while True:\n",
        "            try:\n",
        "                grade = int(input(f\"Enter grade for {subject} (0-100): \"))\n",
        "                if 0 <= grade <= 100:\n",
        "                    break\n",
        "                else:\n",
        "                    print(\"Grade must be between 0 and 100!\")\n",
        "            except ValueError:\n",
        "                print(\"Please enter a valid number between 0 and 100!\")\n",
        "\n",
        "        grades[subject] = grade\n",
        "\n",
        "    students.append({'name': name, 'id': student_id, 'grades': grades})\n",
        "    print(\"\\nNew student added successfully!\")\n",
        "\n",
        "display_students()\n",
        "averages = calculate_averages()\n",
        "find_highest_average(averages)\n",
        "list_top_students(averages)\n",
        "calculate_subject_average('Math')  # Changed function call\n",
        "add_student()\n",
        "display_students()"
      ],
      "metadata": {
        "colab": {
          "base_uri": "https://localhost:8080/"
        },
        "id": "mr-dNkoXpFwo",
        "outputId": "0c552fe1-b179-4c4c-ef6f-7ed5d26ca831"
      },
      "execution_count": 21,
      "outputs": [
        {
          "output_type": "stream",
          "name": "stdout",
          "text": [
            "\n",
            "--- All Students ---\n",
            "\n",
            "Student Name: Ahsan\n",
            "Student ID: 101\n",
            "Subjects and Grades:\n",
            "  Math: 85\n",
            "  Science: 90\n",
            "  History: 78\n",
            "\n",
            "Student Name: Zain\n",
            "Student ID: 102\n",
            "Subjects and Grades:\n",
            "  Math: 76\n",
            "  Science: 88\n",
            "  History: 92\n",
            "\n",
            "Student Name: Ali\n",
            "Student ID: 103\n",
            "Subjects and Grades:\n",
            "  Math: 92\n",
            "  Science: 85\n",
            "  History: 88\n",
            "\n",
            "--- Average Grades ---\n",
            "Ahsan: 84.33\n",
            "Zain: 85.33\n",
            "Ali: 88.33\n",
            "\n",
            "Highest Average: Ali with 88.33\n",
            "\n",
            "--- Students with Average > 80 ---\n",
            "Ahsan: 84.33\n",
            "Zain: 85.33\n",
            "Ali: 88.33\n",
            "\n",
            "Average for Math: 84.33\n",
            "\n",
            "--- Add New Student ---\n",
            "Enter student name: Zia\n",
            "Enter student ID: 104\n",
            "Enter subject name: Maths\n",
            "Enter grade for Maths (0-100): 98\n",
            "Enter subject name: science\n",
            "Enter grade for science (0-100): 78\n",
            "Enter subject name: History\n",
            "Enter grade for History (0-100): 88\n",
            "\n",
            "New student added successfully!\n",
            "\n",
            "--- All Students ---\n",
            "\n",
            "Student Name: Ahsan\n",
            "Student ID: 101\n",
            "Subjects and Grades:\n",
            "  Math: 85\n",
            "  Science: 90\n",
            "  History: 78\n",
            "\n",
            "Student Name: Zain\n",
            "Student ID: 102\n",
            "Subjects and Grades:\n",
            "  Math: 76\n",
            "  Science: 88\n",
            "  History: 92\n",
            "\n",
            "Student Name: Ali\n",
            "Student ID: 103\n",
            "Subjects and Grades:\n",
            "  Math: 92\n",
            "  Science: 85\n",
            "  History: 88\n",
            "\n",
            "Student Name: Zia\n",
            "Student ID: 104\n",
            "Subjects and Grades:\n",
            "  Maths: 98\n",
            "  science: 78\n",
            "  History: 88\n"
          ]
        }
      ]
    }
  ]
}